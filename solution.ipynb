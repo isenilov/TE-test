{
 "cells": [
  {
   "cell_type": "markdown",
   "metadata": {
    "collapsed": true
   },
   "source": [
    "# TEST - Jr. Data Scientist #\n",
    "\n",
    "## 1. Introduction ##\n",
    "\n",
    "The task is to explain the relatively complex mathematical concept in a way that a software engineer can comprehend and implement the concept in code.\n",
    "\n",
    "Particularly, the following formula needs to be explained:\n",
    "\n",
    "$$L(S,R,U,T,F,G)=\\frac{1}{2}||A-S \\times_R R \\times_U U \\times_T T ||^2 + \\frac{\\lambda_1}{2}||X-TG||^2 + \\frac{\\lambda_2}{2}||Y-RF||^2 + \\frac{\\lambda_3}{2}(||S||^2 + ||R||^2 + ||U||^2 + ||T||^2 + ||F||^2 + ||G||^2)$$ \n",
    "\n",
    "__Note__. It's important to understand that all the variables in the right-hand side of the equation are \n",
    "$n$-dimensional arrays (tensors, matrices and vectors) with $ n \\leq 3 $.\n",
    "\n",
    "There also special math symbols used in the formula:\n",
    "* $|| \\cdot ||$ - is so called \"norm\". Intuitively, in terms of geometry, it may be considered as the _lenght_ of the vector (do you remember Pythagoras theorem?). With regards to $n$-dim array - we just scale the idea of Euclidean length - it is squre root of sum of squares af all the elements of the array. We will come back to it in the implementation part.\n",
    "* $S \\times_R R$ - is \"cross product\" of tensors (see [Wiki](https://en.wikipedia.org/wiki/Matrix_multiplication) or [this simple video](https://www.khanacademy.org/math/precalculus/precalc-matrices/multiplying-matrices-by-matrices/v/matrix-multiplication-intro) from Khan Academy). But in our case it is not simple multiplication but tensor-matrix (3D-array by 2D array) multiplication in which each 2D \"slice\" of the 3D array is multiplied dy 2D array according to matrix multiplication rule."
   ]
  },
  {
   "cell_type": "markdown",
   "metadata": {},
   "source": [
    "## 2. Explanation of the formula ##\n",
    "\n",
    "### a) Objective of the formula ###\n",
    "The aforementioned formula is so called \"loss function\" which, in general case, represents quality of output of the prediction model. In simple words, the value returned by this function tells us how the estimated (by predictive model) value far from true value. Having value of loss fuction, one can further update parameters of the model `{S, R, U, T, F, G}` to make it smaller, but this is a separate task called optimization which we will not touch in this document.\n",
    "\n",
    "In this particular domain this function is used to find optimum travel time taking into account many road grid related features which we will see later.\n",
    "\n",
    "As it may be seen, the right-hand side of the equation consists of 4 terms. For example, the first one computes the difference (or _distance_) between our, let's say measured, 3D array $A$ and recovered from database archived 3D array $S \\times_R R \\times_U U \\times_T T$. Why it is so complicated? The reason is that this stored 3D array may be very sparse (we will see why in the next subsection) and is stored by set of more dense arrays `{S, R, U, T}`.\n",
    "\n",
    "\n",
    "### b) Inputs and outputs ###\n",
    "\n",
    "Let's look at the inputs that our function needs to accept.\n",
    "__Note__. All inputs are either arrays or floating point values as well as all values in the arrays have to be also `float32` or `float64` (depending on the needed accuracy) data type, hence we will only consider shapes (here and later we mean shape in terms of NumPy) of the input data below.\n",
    "\n",
    "1. $A$ is 3D array of shape `(N, M, L)` and its values represent time cost of traveling $n^{th}$ road segment by $m^{th}$ driver within $l^{th}$ time slot where $n, m, l$ are elements of respective dimensions indicated by the same big letters.\n",
    "\n",
    "2. The following four inputs `{S, R, U, T}` are result of  decomposition of stored version of $A$ with some special algorithms which we will not consider here. Basically, their product recovers original version of $A$ but the components require much less space to store as $A$ is sparse due to domain specific reasons. Let's look at the shapes of these four elements:\n",
    "  * $S$ has the same shape of $A$ as it is basis for its recovering\n",
    "  * $R$ has shape of `(N, d_R)`\n",
    "  * $U$ has shape of `(M, d_U)`\n",
    "  * $T$ has shape of `(L, d_T)`\n",
    "\n",
    "3. $F$ has shape of `(d_R, Q)` and represents geographical features. Q denotes dimension of these features.\n",
    "4. $G$ has shape of `(d_T, P)` and represents grid on which road network is divided. P denotes the number of the grids.\n",
    "5. ${\\lambda_1, \\lambda_2, \\lambda_3}$ are the \"tuning\" coefficients that are used to change the contribution of each term in the value of loss function. Have to be `float` numbers. \n",
    "\n",
    "You may see two other variables in the formula: $X$ and $Y$. They are not inputs but calculated by other decomposition algorithm from $A$ and have shapes of `(L, P)` and `(N, Q)` respectively.\n",
    "\n",
    "The __output__ of the function should have either `float32` or `float64` data type, depending on needed accuracy again.\n",
    "\n",
    "### c) Checking of the inputs ###\n",
    "\n",
    "The following checks of inputs must be done:\n",
    "\n",
    "1. The shapes of the input arrays (which also need to be NumPy arrays in our implementation) are in compliance with par. 2b. This is very important because, for example, multiplication of matrices requires number of columns of first matrix be equal number of rows of the first.\n",
    "2. The datatypes of the values of the arrays and lambdas must be `float`.\n",
    "3. The values should not be negative which is determined by the domain.\n",
    "\n",
    "### d) Task for the programmer ###\n",
    "\n",
    "The sofware engineer is supposed to implement function that:\n",
    "1. Written in the programming language of the company's product\n",
    "2. Takes all the inputs enumerated in par. 2b\n",
    "3. Performs input checks enumerated in par. 2c\n",
    "4. Computes the loss according to the formula with maximum efficiency and utilization of hardware resources \n",
    "5. Performs feasibility check of the computed value (at least that it is positive and `float`)\n",
    "6. All the code is covered by tests\n",
    "7. Integrates in the company's product seamlessly\n",
    "\n"
   ]
  },
  {
   "cell_type": "markdown",
   "metadata": {
    "collapsed": true
   },
   "source": [
    "## 3. Implementation ##\n",
    "\n",
    "In this section we will implement and test the function for computing the loss function in Python programming language using NumPy library (as  it has convenient API and optimized for vectorized computation)."
   ]
  },
  {
   "cell_type": "markdown",
   "metadata": {},
   "source": [
    "First of all, lets import NumPy and construct our toy-data:"
   ]
  },
  {
   "cell_type": "code",
   "execution_count": 1,
   "metadata": {
    "collapsed": true
   },
   "outputs": [],
   "source": [
    "import numpy as np\n",
    "\n",
    "np.random.seed(42) # setting random seed for repeatability of results\n",
    "\n",
    "# define dimensions\n",
    "N, M, L = (10, 6, 8)\n",
    "d_R, d_U, d_T = (5, 4, 4)\n",
    "Q, P = (6, 7)\n",
    "\n",
    "#construct our data\n",
    "A = np.random.rand(N, M, L)\n",
    "S = np.random.rand(d_R, d_U, d_T)\n",
    "R = np.random.rand(N, d_R)\n",
    "U = np.random.rand(M, d_U)\n",
    "T = np.random.rand(L, d_T)\n",
    "F = np.random.rand(d_R, Q)\n",
    "G = np.random.rand(d_T, P)\n",
    "l1, l2, l3 = np.random.rand(3) # lambdas\n",
    "\n",
    "X = np.random.rand(L, P) # we initialize X and Y assuming that they are calculated\n",
    "Y = np.random.rand(N, Q) # with separate function from A"
   ]
  },
  {
   "cell_type": "markdown",
   "metadata": {},
   "source": [
    "Let's define or function"
   ]
  },
  {
   "cell_type": "code",
   "execution_count": 2,
   "metadata": {
    "collapsed": true
   },
   "outputs": [],
   "source": [
    "def loss(A, S, R, U, T, F, G, l1, l2, l3, X, Y):\n",
    "    '''X, Y shouldn't be input parameters of the function (here - just for prototype)'''\n",
    "    \n",
    "    '''TODO(for programmer): Perform all the input checks (for programmer) '''\n",
    "    \n",
    "    term1 = 0.5 * np.linalg.norm(A - np.tensordot(  \n",
    "        np.tensordot(\n",
    "            np.tensordot(\n",
    "                S, R, axes=([0],[1])), U, \n",
    "            axes=([1],[1])), T, \n",
    "        axes=([0],[1])))\n",
    "    \n",
    "    # numpy.tensordot performs multiplication of tensor by matrix across axes\n",
    "    \n",
    "    '''TODO(for programmer): Assure that shapes match '''\n",
    "        \n",
    "    term2 = 0.5 * l1 * np.linalg.norm(X - np.dot(T, G))\n",
    "    \n",
    "    term3 = 0.5 * l2 * np.linalg.norm(Y - np.dot(R, F))\n",
    "    \n",
    "    term4 = 0.5 * l3 * (np.linalg.norm(S) + \n",
    "                       np.linalg.norm(R) +\n",
    "                       np.linalg.norm(U) +\n",
    "                       np.linalg.norm(T) +\n",
    "                       np.linalg.norm(F) +\n",
    "                       np.linalg.norm(G))\n",
    "    \n",
    "    '''TODO(for programmer): Assure that output value is feasible '''\n",
    "    \n",
    "    return term1 + term2 + term3 + term4\n",
    "    "
   ]
  },
  {
   "cell_type": "markdown",
   "metadata": {},
   "source": [
    "And finally let's test it with our randomly generated data"
   ]
  },
  {
   "cell_type": "code",
   "execution_count": 3,
   "metadata": {},
   "outputs": [
    {
     "data": {
      "text/plain": [
       "48.087645444389523"
      ]
     },
     "execution_count": 3,
     "metadata": {},
     "output_type": "execute_result"
    }
   ],
   "source": [
    "loss(A, S, R, U, T, F, G, l1, l2, l3, X, Y)"
   ]
  },
  {
   "cell_type": "markdown",
   "metadata": {},
   "source": [
    "Looks like it works!"
   ]
  },
  {
   "cell_type": "markdown",
   "metadata": {},
   "source": [
    "## 4. Conclusion ##\n",
    "Of course the code needs to be checked which requires extensive testing but the goal of this document is to show and explain how the relatively complex math concept may be implemented in code. After testing, the code may be rewritten in any other programming language and used in production in order to create value for customers with intelligent solutions."
   ]
  },
  {
   "cell_type": "markdown",
   "metadata": {},
   "source": [
    "## 5. References ##\n",
    "\n",
    "1. Y. Wang, Y. Zheng, and Y. Xue. 2014. Travel Time Estimation of a Path using Sparse Trajectories. In Proceedings of the 20th ACM SIGKDD International Conference on Knowledge Discovery and Data Mining. ACM, 25-34. \n",
    "2. Zheng, Yu. \"Trajectory data mining: an overview.\" ACM Transactions on Intelligent Systems and Technology (TIST) 6.3 (2015): 29."
   ]
  }
 ],
 "metadata": {
  "kernelspec": {
   "display_name": "Python 3",
   "language": "python",
   "name": "python3"
  },
  "language_info": {
   "codemirror_mode": {
    "name": "ipython",
    "version": 3
   },
   "file_extension": ".py",
   "mimetype": "text/x-python",
   "name": "python",
   "nbconvert_exporter": "python",
   "pygments_lexer": "ipython3",
   "version": "3.6.2"
  }
 },
 "nbformat": 4,
 "nbformat_minor": 1
}
